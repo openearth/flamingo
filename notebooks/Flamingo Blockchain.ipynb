{
 "cells": [
  {
   "cell_type": "code",
   "execution_count": 133,
   "metadata": {},
   "outputs": [
    {
     "name": "stdout",
     "output_type": "stream",
     "text": [
      "--- do_something\n",
      "--- do_something_similar\n",
      "1 2 {None} {1} ['do_something']\n",
      "--- do_something_else\n",
      "1 2 {None} {1} ['do_something']\n",
      "--- do_another_thing\n",
      "1 3 {None} {1} ['do_something']\n",
      "2 3 {1} {3.0, 4.0} ['do_something_else', 'do_something_similar']\n",
      "--- do_something_final\n",
      "1 4 {None} {1} ['do_something']\n",
      "2 4 {1} {3.0, 4.0} ['do_something_else', 'do_something_similar']\n",
      "3 4 {3.0, 4.0} {27.0} ['do_another_thing']\n",
      "--- do_something_similar\n",
      "1 2 {None} {1} ['do_something']\n",
      "--- do_something\n",
      "--- do_something_similar\n",
      "1 2 {None} {111} ['do_something']\n"
     ]
    }
   ],
   "source": [
    "import json\n",
    "\n",
    "\n",
    "def workflow(stage=0):\n",
    "    def workflow_decorator(fcn):\n",
    "        def function_wrapper(self, *args, **kwargs):\n",
    "            \n",
    "            \n",
    "            def descend_blockchain():\n",
    "                for s in range(stage-1, -1, -1):\n",
    "                    if s in self._blockchain:\n",
    "                        return [x['hash_after'] for x in self._blockchain[s].values()]\n",
    "                return [None]\n",
    "            \n",
    "            \n",
    "            def check_blockchain():\n",
    "                print('--- '+fcn.__name__)\n",
    "                previous_hashes = set([None])\n",
    "                for s, blockchain in sorted(self._blockchain.items()):\n",
    "                    if s >= stage:\n",
    "                        break\n",
    "                        \n",
    "                    hashes_before = set()\n",
    "                    hashes_after = set()\n",
    "                    fcnnames = []\n",
    "                    for fcnname, bc in sorted(blockchain.items()):\n",
    "                        hashes_before.update(bc['hashes_before'])\n",
    "                        hashes_after.add(bc['hash_after'])\n",
    "                        fcnnames.append(fcnname)\n",
    "                        \n",
    "                    print(s, stage, hashes_before, hashes_after, fcnnames)\n",
    "                    if len(hashes_before.difference(previous_hashes)) == 0:\n",
    "                        previous_hashes = hashes_after\n",
    "                    else:\n",
    "                        raise ValueError('Blockchain broken at stage %d, '\n",
    "                                         'rerun \"%s\" first.' % (s, '\" and/or \"'.join(fcnnames)))\n",
    "                return True\n",
    "            \n",
    "            \n",
    "            def append_blockchain(fcnname, **kwargs):\n",
    "                if stage not in self._blockchain.keys():\n",
    "                    self._blockchain[stage] = {}\n",
    "                self._blockchain[stage][fcnname] = kwargs\n",
    "                    \n",
    "                \n",
    "            if check_blockchain():\n",
    "                fcn(self, *args, **kwargs)\n",
    "                append_blockchain(fcn.__name__,\n",
    "                                  hashes_before=descend_blockchain(),\n",
    "                                  hash_after=self.hash)\n",
    "            \n",
    "        return function_wrapper\n",
    "    \n",
    "    return workflow_decorator\n",
    "    \n",
    "    \n",
    "class A:\n",
    "    \n",
    "    def __init__(self):\n",
    "        self.hash = 0\n",
    "        self._blockchain = {}\n",
    "    \n",
    "    @workflow(stage=1)\n",
    "    def do_something(self, x):\n",
    "        self.hash = x\n",
    "        \n",
    "    @workflow(stage=2)\n",
    "    def do_something_similar(self, x):\n",
    "        self.hash = 2.*x\n",
    "        \n",
    "    @workflow(stage=2)\n",
    "    def do_something_else(self, x):\n",
    "        self.hash = x**2.\n",
    "\n",
    "    @workflow(stage=3)\n",
    "    def do_another_thing(self, x):\n",
    "        self.hash = x**3.\n",
    "        \n",
    "    @workflow(stage=4)\n",
    "    def do_something_final(self, x):\n",
    "        self.hash = x**4.\n",
    "        \n",
    "        \n",
    "obj = A()\n",
    "\n",
    "obj.do_something(1)\n",
    "obj.do_something_similar(1.5)\n",
    "obj.do_something_else(2)\n",
    "obj.do_another_thing(3)\n",
    "obj.do_something_final(4)\n",
    "\n",
    "#obj.do_something(11)\n",
    "obj.do_something_similar(15)\n",
    "obj.do_something(111)\n",
    "#obj.do_something_else(22)\n",
    "obj.do_something_similar(155)\n",
    "#obj.do_another_thing(33)\n",
    "#obj.do_something_final(44)"
   ]
  },
  {
   "cell_type": "code",
   "execution_count": 118,
   "metadata": {},
   "outputs": [
    {
     "name": "stdout",
     "output_type": "stream",
     "text": [
      "{\n",
      "    \"1\": {\n",
      "        \"do_something\": {\n",
      "            \"hashes_before\": [\n",
      "                null\n",
      "            ],\n",
      "            \"hash_after\": 111\n",
      "        }\n",
      "    },\n",
      "    \"2\": {\n",
      "        \"do_something_similar\": {\n",
      "            \"hashes_before\": [\n",
      "                1\n",
      "            ],\n",
      "            \"hash_after\": 30.0\n",
      "        },\n",
      "        \"do_something_else\": {\n",
      "            \"hashes_before\": [\n",
      "                111\n",
      "            ],\n",
      "            \"hash_after\": 484.0\n",
      "        }\n",
      "    },\n",
      "    \"3\": {\n",
      "        \"do_another_thing\": {\n",
      "            \"hashes_before\": [\n",
      "                30.0,\n",
      "                484.0\n",
      "            ],\n",
      "            \"hash_after\": 35937.0\n",
      "        }\n",
      "    },\n",
      "    \"4\": {\n",
      "        \"do_something_final\": {\n",
      "            \"hashes_before\": [\n",
      "                35937.0\n",
      "            ],\n",
      "            \"hash_after\": 3748096.0\n",
      "        }\n",
      "    }\n",
      "}\n"
     ]
    }
   ],
   "source": [
    "print(json.dumps(obj._blockchain, indent=4))"
   ]
  },
  {
   "cell_type": "code",
   "execution_count": 128,
   "metadata": {},
   "outputs": [
    {
     "data": {
      "text/plain": [
       "{1}"
      ]
     },
     "execution_count": 128,
     "metadata": {},
     "output_type": "execute_result"
    }
   ],
   "source": [
    "a = set([1,2,3])\n",
    "b = set([2,3,4])\n",
    "a.intersection(b)\n",
    "a.difference(b)"
   ]
  },
  {
   "cell_type": "code",
   "execution_count": null,
   "metadata": {
    "collapsed": true
   },
   "outputs": [],
   "source": [
    "slice()"
   ]
  }
 ],
 "metadata": {
  "kernelspec": {
   "display_name": "Python 3",
   "language": "python",
   "name": "python3"
  },
  "language_info": {
   "codemirror_mode": {
    "name": "ipython",
    "version": 3
   },
   "file_extension": ".py",
   "mimetype": "text/x-python",
   "name": "python",
   "nbconvert_exporter": "python",
   "pygments_lexer": "ipython3",
   "version": "3.6.1"
  }
 },
 "nbformat": 4,
 "nbformat_minor": 2
}
